{
 "cells": [
  {
   "cell_type": "markdown",
   "metadata": {},
   "source": [
    "## CART Tree\n",
    "\n",
    "2. Setear el gridsearch **-->** Quedarse con el mejor modelo \n",
    "3. identificar reglas"
   ]
  },
  {
   "cell_type": "markdown",
   "metadata": {
    "collapsed": true
   },
   "source": [
    "1. https://pythonprogramminglanguage.com/decision-tree/\n",
    "2. http://scikit-learn.org/stable/auto_examples/model_selection/plot_multi_metric_evaluation.html#sphx-glr-auto-examples-model-selection-plot-multi-metric-evaluation-py\n",
    "3.  http://scikit-learn.org/stable/modules/grid_search.html#grid-search\n",
    "4. http://scikit-learn.org/stable/modules/generated/sklearn.tree.DecisionTreeClassifier.html#sklearn.tree.DecisionTreeClassifier\n",
    "5. http://scikit-learn.org/stable/modules/tree.html#tree\n",
    "6. http://dataaspirant.com/2017/02/01/decision-tree-algorithm-python-with-scikit-learn/\n"
   ]
  },
  {
   "cell_type": "code",
   "execution_count": 19,
   "metadata": {},
   "outputs": [],
   "source": [
    "import numpy as np\n",
    "import pandas as pd\n",
    "\n",
    "from matplotlib import pyplot as plt\n",
    "\n",
    "#from sklearn.datasets import make_hastie_10_2\n",
    "from sklearn.model_selection import GridSearchCV\n",
    "from sklearn.metrics import make_scorer\n",
    "from sklearn.metrics import accuracy_score\n",
    "from sklearn.tree import DecisionTreeClassifier\n",
    "from sklearn.tree import export_graphviz\n",
    "import subprocess\n",
    "\n",
    "#print(__doc__)"
   ]
  },
  {
   "cell_type": "markdown",
   "metadata": {},
   "source": [
    "# CART Tree"
   ]
  },
  {
   "cell_type": "code",
   "execution_count": 2,
   "metadata": {},
   "outputs": [
    {
     "data": {
      "text/plain": [
       "[0, 1, 2, 3, 4, 5, 6, 7, 8, 9, 842, 843, 844, 845]"
      ]
     },
     "execution_count": 2,
     "metadata": {},
     "output_type": "execute_result"
    }
   ],
   "source": [
    "columns_index = [i for i in range(10)]\n",
    "columns_index.append(842)\n",
    "columns_index.append(843)\n",
    "columns_index.append(844)\n",
    "columns_index.append(845)\n",
    "\n",
    "columns_index"
   ]
  },
  {
   "cell_type": "code",
   "execution_count": 3,
   "metadata": {},
   "outputs": [],
   "source": [
    "df = pd.read_csv('C:\\\\Users\\\\OLX - Gonzalo\\\\Desktop\\\\tesis\\\\base_con_clusters.csv', index_col = 0, usecols= columns_index)"
   ]
  },
  {
   "cell_type": "code",
   "execution_count": 4,
   "metadata": {},
   "outputs": [
    {
     "data": {
      "text/html": [
       "<div>\n",
       "<style scoped>\n",
       "    .dataframe tbody tr th:only-of-type {\n",
       "        vertical-align: middle;\n",
       "    }\n",
       "\n",
       "    .dataframe tbody tr th {\n",
       "        vertical-align: top;\n",
       "    }\n",
       "\n",
       "    .dataframe thead th {\n",
       "        text-align: right;\n",
       "    }\n",
       "</style>\n",
       "<table border=\"1\" class=\"dataframe\">\n",
       "  <thead>\n",
       "    <tr style=\"text-align: right;\">\n",
       "      <th></th>\n",
       "      <th>country</th>\n",
       "      <th>device</th>\n",
       "      <th>started_session_logged</th>\n",
       "      <th>first_session</th>\n",
       "      <th>is_organic</th>\n",
       "      <th>active_listings</th>\n",
       "      <th>num_events_session</th>\n",
       "      <th>sum_events_session</th>\n",
       "      <th>millisec_session_duration</th>\n",
       "      <th>c1</th>\n",
       "      <th>c2</th>\n",
       "      <th>c3</th>\n",
       "    </tr>\n",
       "    <tr>\n",
       "      <th>session_fake_id</th>\n",
       "      <th></th>\n",
       "      <th></th>\n",
       "      <th></th>\n",
       "      <th></th>\n",
       "      <th></th>\n",
       "      <th></th>\n",
       "      <th></th>\n",
       "      <th></th>\n",
       "      <th></th>\n",
       "      <th></th>\n",
       "      <th></th>\n",
       "      <th></th>\n",
       "    </tr>\n",
       "  </thead>\n",
       "  <tbody>\n",
       "    <tr>\n",
       "      <th>1-0</th>\n",
       "      <td>1</td>\n",
       "      <td>1</td>\n",
       "      <td>0</td>\n",
       "      <td>1</td>\n",
       "      <td>1</td>\n",
       "      <td>0</td>\n",
       "      <td>2</td>\n",
       "      <td>3</td>\n",
       "      <td>0</td>\n",
       "      <td>1</td>\n",
       "      <td>0</td>\n",
       "      <td>0</td>\n",
       "    </tr>\n",
       "    <tr>\n",
       "      <th>10-0</th>\n",
       "      <td>2</td>\n",
       "      <td>1</td>\n",
       "      <td>0</td>\n",
       "      <td>1</td>\n",
       "      <td>1</td>\n",
       "      <td>0</td>\n",
       "      <td>2</td>\n",
       "      <td>3</td>\n",
       "      <td>0</td>\n",
       "      <td>1</td>\n",
       "      <td>0</td>\n",
       "      <td>0</td>\n",
       "    </tr>\n",
       "    <tr>\n",
       "      <th>100-0</th>\n",
       "      <td>1</td>\n",
       "      <td>1</td>\n",
       "      <td>0</td>\n",
       "      <td>1</td>\n",
       "      <td>1</td>\n",
       "      <td>0</td>\n",
       "      <td>2</td>\n",
       "      <td>5</td>\n",
       "      <td>0</td>\n",
       "      <td>1</td>\n",
       "      <td>0</td>\n",
       "      <td>0</td>\n",
       "    </tr>\n",
       "    <tr>\n",
       "      <th>1000-0</th>\n",
       "      <td>1</td>\n",
       "      <td>1</td>\n",
       "      <td>0</td>\n",
       "      <td>1</td>\n",
       "      <td>1</td>\n",
       "      <td>0</td>\n",
       "      <td>1</td>\n",
       "      <td>1</td>\n",
       "      <td>0</td>\n",
       "      <td>1</td>\n",
       "      <td>0</td>\n",
       "      <td>0</td>\n",
       "    </tr>\n",
       "    <tr>\n",
       "      <th>10000-0</th>\n",
       "      <td>1</td>\n",
       "      <td>2</td>\n",
       "      <td>0</td>\n",
       "      <td>1</td>\n",
       "      <td>1</td>\n",
       "      <td>0</td>\n",
       "      <td>2</td>\n",
       "      <td>1</td>\n",
       "      <td>0</td>\n",
       "      <td>1</td>\n",
       "      <td>0</td>\n",
       "      <td>0</td>\n",
       "    </tr>\n",
       "  </tbody>\n",
       "</table>\n",
       "</div>"
      ],
      "text/plain": [
       "                 country  device  started_session_logged  first_session  \\\n",
       "session_fake_id                                                           \n",
       "1-0                    1       1                       0              1   \n",
       "10-0                   2       1                       0              1   \n",
       "100-0                  1       1                       0              1   \n",
       "1000-0                 1       1                       0              1   \n",
       "10000-0                1       2                       0              1   \n",
       "\n",
       "                 is_organic  active_listings  num_events_session  \\\n",
       "session_fake_id                                                    \n",
       "1-0                       1                0                   2   \n",
       "10-0                      1                0                   2   \n",
       "100-0                     1                0                   2   \n",
       "1000-0                    1                0                   1   \n",
       "10000-0                   1                0                   2   \n",
       "\n",
       "                 sum_events_session  millisec_session_duration  c1  c2  c3  \n",
       "session_fake_id                                                             \n",
       "1-0                               3                          0   1   0   0  \n",
       "10-0                              3                          0   1   0   0  \n",
       "100-0                             5                          0   1   0   0  \n",
       "1000-0                            1                          0   1   0   0  \n",
       "10000-0                           1                          0   1   0   0  "
      ]
     },
     "execution_count": 4,
     "metadata": {},
     "output_type": "execute_result"
    }
   ],
   "source": [
    "df.iloc[:5, :12]"
   ]
  },
  {
   "cell_type": "code",
   "execution_count": 5,
   "metadata": {},
   "outputs": [
    {
     "data": {
      "text/plain": [
       "\"\\n#X, y = make_hastie_10_2(n_samples=8000, random_state=42)\\n\\n# The scorers can be either be one of the predefined metric strings or a scorer\\n# callable, like the one returned by make_scorer\\n#scoring = 'roc_auc'\\n\\n# Setting refit='AUC', refits an estimator on the whole dataset with the\\n# parameter setting that has the best cross-validated AUC score.\\n# That estimator is made available at ``gs.best_estimator_`` along with\\n# parameters like ``gs.best_score_``, ``gs.best_parameters_`` and\\n# ``gs.best_index_``\\ngs = GridSearchCV(DecisionTreeClassifier(random_state=42),\\n                  param_grid={ 'max_depth': range(1,10,1)},\\n                  scoring=None, cv=5)\\ngs.fit(df.iloc[:,:12], df['clase'])\\nresults = gs.best_params_\\n\\nresults\\n\\n\""
      ]
     },
     "execution_count": 5,
     "metadata": {},
     "output_type": "execute_result"
    }
   ],
   "source": [
    "'''\n",
    "#X, y = make_hastie_10_2(n_samples=8000, random_state=42)\n",
    "\n",
    "# The scorers can be either be one of the predefined metric strings or a scorer\n",
    "# callable, like the one returned by make_scorer\n",
    "#scoring = 'roc_auc'\n",
    "\n",
    "# Setting refit='AUC', refits an estimator on the whole dataset with the\n",
    "# parameter setting that has the best cross-validated AUC score.\n",
    "# That estimator is made available at ``gs.best_estimator_`` along with\n",
    "# parameters like ``gs.best_score_``, ``gs.best_parameters_`` and\n",
    "# ``gs.best_index_``\n",
    "gs = GridSearchCV(DecisionTreeClassifier(random_state=42),\n",
    "                  param_grid={ 'max_depth': range(1,10,1)},\n",
    "                  scoring=None, cv=5)\n",
    "gs.fit(df.iloc[:,:12], df['clase'])\n",
    "results = gs.best_params_\n",
    "\n",
    "results\n",
    "\n",
    "'''\n",
    "\n"
   ]
  },
  {
   "cell_type": "code",
   "execution_count": 38,
   "metadata": {},
   "outputs": [],
   "source": [
    "def visualize_tree(tree, feature_names):\n",
    "    \"\"\"Create tree png using graphviz.\n",
    "\n",
    "    Args\n",
    "    ----\n",
    "    tree -- scikit-learn DecsisionTree.\n",
    "    feature_names -- list of feature names.\n",
    "    \"\"\"\n",
    "    with open(\"dt.dot\", 'w') as f:\n",
    "        export_graphviz(tree, out_file=f,\n",
    "                        feature_names=feature_names,\n",
    "                               label=\"root\",\n",
    "        proportion=True,\n",
    "        impurity=False, \n",
    "        class_names={0: \"Not_Starter\", 1: \"Starter\", 2: \"Finisher\"},\n",
    "        filled=True,\n",
    "        rounded=True)\n",
    "\n",
    "    command = [\"dot\", \"-Tpng\", \"dt.dot\", \"-o\", \"dt.png\"]\n",
    "    try:\n",
    "        subprocess.check_call(command)\n",
    "    except:\n",
    "        exit(\"Could not run dot, ie graphviz, to \"\n",
    "             \"produce visualization\")"
   ]
  },
  {
   "cell_type": "code",
   "execution_count": 53,
   "metadata": {},
   "outputs": [
    {
     "data": {
      "text/plain": [
       "'\\ngraph = export_graphviz(\\n        t1,\\n        label=\"root\",\\n        proportion=True,\\n        impurity=False, \\n        out_file=None, \\n        class_names={0: \"Not_Starter\", 1: \"Starter\", 2: \"Finisher\"},\\n        filled=True,\\n        rounded=True)\\ngraphviz.Source(graph)\\n'"
      ]
     },
     "execution_count": 53,
     "metadata": {},
     "output_type": "execute_result"
    }
   ],
   "source": [
    "t1 = DecisionTreeClassifier(max_depth=5)\n",
    "t1.fit(df.iloc[:,:12], df['clase']!= 0)\n",
    "#p = t1.predict_proba(xtest)[:, 1]\n",
    "\n",
    "#print(\"Decision tree ROC-AUC score: %.3f\" % roc_auc_score(ytest, p))\n",
    "#print_graph(t1, df.iloc[:,:12].columns)\n",
    "'''\n",
    "graph = export_graphviz(\n",
    "        t1,\n",
    "        label=\"root\",\n",
    "        proportion=True,\n",
    "        impurity=False, \n",
    "        out_file=None, \n",
    "        class_names={0: \"Not_Starter\", 1: \"Starter\", 2: \"Finisher\"},\n",
    "        filled=True,\n",
    "        rounded=True)\n",
    "graphviz.Source(graph)\n",
    "'''\n"
   ]
  },
  {
   "cell_type": "code",
   "execution_count": 54,
   "metadata": {},
   "outputs": [],
   "source": [
    "visualize_tree(t1, df.columns[:12])\n",
    "#df.columns[[0,1,2,3,4,5,9,10,11]]\n",
    "#http://www.webgraphviz.com/"
   ]
  },
  {
   "cell_type": "code",
   "execution_count": 17,
   "metadata": {},
   "outputs": [],
   "source": [
    "def get_code(tree, feature_names, target_names,\n",
    "             spacer_base=\"    \"):\n",
    "    \"\"\"Produce psuedo-code for decision tree.\n",
    "\n",
    "    Args\n",
    "    ----\n",
    "    tree -- scikit-leant DescisionTree.\n",
    "    feature_names -- list of feature names.\n",
    "    target_names -- list of target (class) names.\n",
    "    spacer_base -- used for spacing code (default: \"    \").\n",
    "\n",
    "    Notes\n",
    "    -----\n",
    "    based on http://stackoverflow.com/a/30104792.\n",
    "    \"\"\"\n",
    "    left      = tree.tree_.children_left\n",
    "    right     = tree.tree_.children_right\n",
    "    threshold = tree.tree_.threshold\n",
    "    features  = [feature_names[i] for i in tree.tree_.feature]\n",
    "    value = tree.tree_.value\n",
    "\n",
    "    def recurse(left, right, threshold, features, node, depth):\n",
    "        spacer = spacer_base * depth\n",
    "        if (threshold[node] != -2):\n",
    "            print(spacer + \"if ( \" + features[node] + \" <= \" + \\\n",
    "                  str(threshold[node]) + \" ) {\")\n",
    "            if left[node] != -1:\n",
    "                    recurse(left, right, threshold, features,\n",
    "                            left[node], depth+1)\n",
    "            print(spacer + \"}\\n\" + spacer +\"else {\")\n",
    "            if right[node] != -1:\n",
    "                    recurse(left, right, threshold, features,\n",
    "                            right[node], depth+1)\n",
    "            print(spacer + \"}\")\n",
    "        else:\n",
    "            target = value[node]\n",
    "            for i, v in zip(np.nonzero(target)[1],\n",
    "                            target[np.nonzero(target)]):\n",
    "                target_name = target_names[i]\n",
    "                target_count = int(v)\n",
    "                print(spacer + \"return \" + str(target_name) + \\\n",
    "                      \" ( \" + str(target_count) + \" examples )\")\n",
    "\n",
    "    recurse(left, right, threshold, features, 0, 0)"
   ]
  },
  {
   "cell_type": "code",
   "execution_count": 18,
   "metadata": {},
   "outputs": [
    {
     "name": "stdout",
     "output_type": "stream",
     "text": [
      "if ( num_events_session <= 19.5 ) {\n",
      "    if ( num_events_session <= 9.5 ) {\n",
      "        if ( num_events_session <= 4.5 ) {\n",
      "            return 0 ( 870883 examples )\n",
      "            return 1 ( 6364 examples )\n",
      "        }\n",
      "        else {\n",
      "            return 0 ( 320878 examples )\n",
      "            return 1 ( 18293 examples )\n",
      "            return 2 ( 8 examples )\n",
      "        }\n",
      "    }\n",
      "    else {\n",
      "        if ( c3 <= 0.5 ) {\n",
      "            return 0 ( 13286 examples )\n",
      "            return 1 ( 11343 examples )\n",
      "            return 2 ( 1786 examples )\n",
      "        }\n",
      "        else {\n",
      "            return 0 ( 106044 examples )\n",
      "            return 1 ( 11036 examples )\n",
      "            return 2 ( 306 examples )\n",
      "        }\n",
      "    }\n",
      "}\n",
      "else {\n",
      "    if ( num_events_session <= 23.5 ) {\n",
      "        if ( started_session_logged <= 0.5 ) {\n",
      "            return 0 ( 4267 examples )\n",
      "            return 1 ( 2468 examples )\n",
      "            return 2 ( 1200 examples )\n",
      "        }\n",
      "        else {\n",
      "            return 0 ( 362 examples )\n",
      "            return 1 ( 694 examples )\n",
      "            return 2 ( 5123 examples )\n",
      "        }\n",
      "    }\n",
      "    else {\n",
      "        if ( num_events_session <= 26.5 ) {\n",
      "            return 0 ( 805 examples )\n",
      "            return 1 ( 1295 examples )\n",
      "            return 2 ( 6238 examples )\n",
      "        }\n",
      "        else {\n",
      "            return 0 ( 204 examples )\n",
      "            return 1 ( 1028 examples )\n",
      "            return 2 ( 16332 examples )\n",
      "        }\n",
      "    }\n",
      "}\n"
     ]
    }
   ],
   "source": [
    "get_code(t1, df.columns[:12], df['clase'].unique())\n"
   ]
  }
 ],
 "metadata": {
  "kernelspec": {
   "display_name": "Python 3",
   "language": "python",
   "name": "python3"
  },
  "language_info": {
   "codemirror_mode": {
    "name": "ipython",
    "version": 3
   },
   "file_extension": ".py",
   "mimetype": "text/x-python",
   "name": "python",
   "nbconvert_exporter": "python",
   "pygments_lexer": "ipython3",
   "version": "3.6.4"
  }
 },
 "nbformat": 4,
 "nbformat_minor": 2
}
