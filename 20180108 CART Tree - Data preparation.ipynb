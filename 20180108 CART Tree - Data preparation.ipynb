{
 "cells": [
  {
   "cell_type": "markdown",
   "metadata": {},
   "source": [
    "## CART Tree\n",
    "\n",
    "1. Aconcdicionar dataset\n",
    "    1. Identificar acciones frecuentes para  cada session y cada usuario\n",
    "    2. Datos a array\n",
    "    3. Generar clases \n",
    "2. Setear el gridsearch **-->** Quedarse con el mejor modelo \n",
    "3. identificar reglas"
   ]
  },
  {
   "cell_type": "markdown",
   "metadata": {
    "collapsed": true
   },
   "source": [
    "1. https://pythonprogramminglanguage.com/decision-tree/\n",
    "2. http://scikit-learn.org/stable/auto_examples/model_selection/plot_multi_metric_evaluation.html#sphx-glr-auto-examples-model-selection-plot-multi-metric-evaluation-py\n",
    "3.  http://scikit-learn.org/stable/modules/grid_search.html#grid-search\n",
    "4. http://scikit-learn.org/stable/modules/generated/sklearn.tree.DecisionTreeClassifier.html#sklearn.tree.DecisionTreeClassifier\n",
    "5. http://scikit-learn.org/stable/modules/tree.html#tree\n",
    "6. http://dataaspirant.com/2017/02/01/decision-tree-algorithm-python-with-scikit-learn/\n"
   ]
  },
  {
   "cell_type": "code",
   "execution_count": 1,
   "metadata": {},
   "outputs": [],
   "source": [
    "import numpy as np\n",
    "import pandas as pd\n",
    "\n",
    "from matplotlib import pyplot as plt"
   ]
  },
  {
   "cell_type": "markdown",
   "metadata": {},
   "source": [
    "# 1. Preparacion del dataset"
   ]
  },
  {
   "cell_type": "code",
   "execution_count": 2,
   "metadata": {
    "collapsed": true
   },
   "outputs": [],
   "source": [
    "file_salida = 'C:\\\\Users\\\\OLX - Gonzalo\\\\Desktop\\\\tesis\\\\base_con_clusters.csv'"
   ]
  },
  {
   "cell_type": "code",
   "execution_count": 3,
   "metadata": {
    "collapsed": true
   },
   "outputs": [],
   "source": [
    "df = pd.read_csv('C:\\\\Users\\\\OLX - Gonzalo\\\\Desktop\\\\tesis\\\\all_base.csv').set_index('session_fake_id')"
   ]
  },
  {
   "cell_type": "code",
   "execution_count": 4,
   "metadata": {
    "collapsed": true
   },
   "outputs": [],
   "source": [
    "base_lift = pd.read_csv('C:\\\\Users\\\\OLX - Gonzalo\\\\Desktop\\\\tesis\\\\base_itemsets_lift_1.csv')"
   ]
  },
  {
   "cell_type": "code",
   "execution_count": 5,
   "metadata": {
    "collapsed": true
   },
   "outputs": [],
   "source": [
    "base_cluster = pd.read_csv('C:\\\\Users\\\\OLX - Gonzalo\\\\Desktop\\\\tesis\\\\clustering_vector.csv'\n",
    "                           , header = None, names = ['itemset', 'cluster'])\n",
    "for i in range(3):\n",
    "    base_cluster['c{}'.format(i+1)] = 1*(base_cluster['cluster'] ==(i+1))"
   ]
  },
  {
   "cell_type": "code",
   "execution_count": 6,
   "metadata": {
    "collapsed": true
   },
   "outputs": [],
   "source": [
    "itemsets_series = base_lift['itemsets'].apply(lambda x: x.strip(\"[]\").replace(\"'\", \"\").replace(\" \", \"\").split(\",\"))\n",
    "base_lift.pop('itemsets')\n",
    "base_lift = pd.concat([base_lift,itemsets_series],axis = 1)"
   ]
  },
  {
   "cell_type": "code",
   "execution_count": 7,
   "metadata": {
    "collapsed": true
   },
   "outputs": [],
   "source": [
    "# construyo una matrix con una fila por cada valor de accion y una columna por cada canasta, con unos y ceros por cada una  \n",
    "\n",
    "acciones = list(df.columns[11:35]) # uso solo hasta la 35 porque el resto no esta en las canastas frequentes\n",
    "base_lift_acciones = []\n",
    "\n",
    "for i , accion in enumerate(acciones):\n",
    "    for j, canasta in enumerate(itemsets_series):\n",
    "            base_lift_acciones.append(1 * str(accion) in canasta)\n",
    "            \n",
    "base_lift_acciones = np.array(base_lift_acciones).reshape(len(acciones), itemsets_series.shape[0]) * 1\n",
    "\n"
   ]
  },
  {
   "cell_type": "code",
   "execution_count": 8,
   "metadata": {
    "collapsed": true
   },
   "outputs": [],
   "source": [
    "#vector con el total de acciones de cada canasta\n",
    "num_acciones_canasta = base_lift_acciones.sum(axis=0)"
   ]
  },
  {
   "cell_type": "code",
   "execution_count": 9,
   "metadata": {
    "collapsed": true
   },
   "outputs": [],
   "source": [
    "#a partir de esto hay que hacer un loop por las filas de df (en bines) y hacer append en un archivo\n",
    "for v in range(1 ,15):\n",
    "    if v == 14:\n",
    "        df_sub = df.iloc[ ((v-1)*100000):,:]\n",
    "    else:\n",
    "        df_sub = df.iloc[ ((v-1)*100000):((v)*100000) ,:]\n",
    "    \n",
    "    df_a_0 = df_sub.iloc[:,11:35].dot(base_lift_acciones).divide(num_acciones_canasta, axis = 1).apply(lambda x: (x==1)*1)\n",
    "    df_c_0 = df_a_0.dot(base_cluster.iloc[:,2:]).apply(lambda x: (x !=0)*1)\n",
    "    df_a_0.columns = [ 'i' + str(i +1) for i in df_a_0.columns ]\n",
    "\n",
    "    df_0 = pd.concat([ df_sub, df_a_0, df_c_0], axis = 1)\n",
    "    \n",
    "    df_0['clase'] = df_0['starter'] + df_0['finisher']\n",
    "    \n",
    "    if v == 1:\n",
    "        df_0.to_csv(file_salida, mode = 'w')\n",
    "    else:\n",
    "        df_0.to_csv(file_salida, header = False , mode = 'a')\n",
    "\n"
   ]
  }
 ],
 "metadata": {
  "kernelspec": {
   "display_name": "Python 3",
   "language": "python",
   "name": "python3"
  },
  "language_info": {
   "codemirror_mode": {
    "name": "ipython",
    "version": 3
   },
   "file_extension": ".py",
   "mimetype": "text/x-python",
   "name": "python",
   "nbconvert_exporter": "python",
   "pygments_lexer": "ipython3",
   "version": "3.6.3"
  }
 },
 "nbformat": 4,
 "nbformat_minor": 2
}
